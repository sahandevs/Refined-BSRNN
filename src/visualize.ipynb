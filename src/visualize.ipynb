{
 "cells": [
  {
   "cell_type": "code",
   "execution_count": null,
   "metadata": {},
   "outputs": [],
   "source": [
    "import torch\n",
    "\n",
    "\n",
    "stuff = torch.load(\"checkpoint_100.pt\",\n",
    "                   map_location=torch.device('cpu') \n",
    "                   )"
   ]
  },
  {
   "cell_type": "code",
   "execution_count": null,
   "metadata": {},
   "outputs": [],
   "source": [
    "!cd src"
   ]
  },
  {
   "cell_type": "code",
   "execution_count": null,
   "metadata": {},
   "outputs": [],
   "source": [
    "print(stuff.keys())\n",
    "from ignite.handlers import Checkpoint\n",
    "\n",
    "from train import Config, all_parts\n",
    "from model import BSRNN\n",
    "\n",
    "stuff[\"cfg\"] = Config(\n",
    "  {\n",
    "        \"--sample_rate\": 44100,\n",
    "         \"--n_fft\": 2048,\n",
    "         \"--generic_bands\": True,\n",
    "         \"--chunk_size_in_seconds\": 1,\n",
    "         \"--feature_dim\": 128//4,\n",
    "         \"--data_loader_workers\": 1,\n",
    "         \"--num_blstm_layers\": 24//2,\n",
    "         \"--mlp_dim\": 128//4,\n",
    "         \"--batch_size\": 95,\n",
    "         \"--clip_grad_norm\": 5,\n",
    "         \"--max_epochs\": 100,\n",
    "         \"--portion\": 1.0,\n",
    "         \"--lr\": 0.001,\n",
    "         \"--musdbhq_location\": \"./musdb18-hq\",\n",
    "         \"--checkpoint_fp\": \"./point.pt\",\n",
    "         \"--name\": \"baseline\",\n",
    "         \"--reduce_size\": True,\n",
    "         \"parts\": [\"drums\"],\n",
    "  }\n",
    "\n",
    ")\n",
    "\n",
    "model = stuff[\"cfg\"].create_model(len([\"drums\"]))\n",
    "\n",
    "model_keys = list(stuff[\"model\"].keys())\n",
    "\n",
    "# Convert to the new version\n",
    "for k in model_keys:\n",
    "    if 'mask.layers' in k:\n",
    "        stuff[\"model\"][k.replace(\"mask.layers\", \"masks.0.layers\")] = stuff[\"model\"][k]\n",
    "        del stuff[\"model\"][k]\n",
    "\n",
    "model.load_state_dict(stuff[\"model\"])\n",
    "\n"
   ]
  },
  {
   "cell_type": "code",
   "execution_count": null,
   "metadata": {},
   "outputs": [],
   "source": [
    "import torchaudio\n",
    "import utils\n",
    "\n",
    "utils.GLOBAL_CONFIG = utils.GlobalConfig({\"--seed\": 42, \"--device\": \"cpu\"})\n",
    "\n",
    "waveform = utils.load_audio(\"/home/sahand/Pomplamoose - Nuclear Kittens ça devient chaud.mp3\", cfg=stuff[\"cfg\"])\n",
    "\n",
    "normal_waveform, gain_factor, peak_gain_factor = utils.normalize_waveform(\n",
    "        waveform, cfg=stuff[\"cfg\"]\n",
    "    )\n",
    "splits, padding_length = utils.split(normal_waveform, cfg=stuff[\"cfg\"])\n",
    "to_spectrogram = utils.to_spectrogram(stuff[\"cfg\"])\n",
    "from_spectrogram = utils.from_spectrogram(stuff[\"cfg\"])\n",
    "\n",
    "split_stft = to_spectrogram(splits[0])\n",
    "print(splits.shape)\n",
    "y = model(split_stft.unsqueeze(0))\n",
    "\n",
    "\n",
    "for i, part in enumerate(all_parts):\n",
    "    # torch.Size([4, 1, 1025, 87])\n",
    "    print(f\"part {part}:\")\n",
    "    part_stft = y[i][0]\n",
    "    wav = from_spectrogram(part_stft)\n",
    "    print(wav)\n",
    "    utils.show_idp_audio(wav.detach().numpy(), stuff[\"cfg\"])\n",
    "\n"
   ]
  },
  {
   "cell_type": "code",
   "execution_count": null,
   "metadata": {},
   "outputs": [],
   "source": [
    "torch.save(stuff, \"../models/baseline-drums-to-vocals.pt\")"
   ]
  }
 ],
 "metadata": {
  "kernelspec": {
   "display_name": "Python 3",
   "language": "python",
   "name": "python3"
  },
  "language_info": {
   "codemirror_mode": {
    "name": "ipython",
    "version": 3
   },
   "file_extension": ".py",
   "mimetype": "text/x-python",
   "name": "python",
   "nbconvert_exporter": "python",
   "pygments_lexer": "ipython3",
   "version": "3.10.6"
  }
 },
 "nbformat": 4,
 "nbformat_minor": 2
}
